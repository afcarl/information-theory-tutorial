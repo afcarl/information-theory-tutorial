{
 "cells": [
  {
   "cell_type": "code",
   "execution_count": 1,
   "metadata": {
    "collapsed": true
   },
   "outputs": [],
   "source": [
    "import matplotlib.pyplot as plt\n",
    "import numpy as np\n",
    "from scipy.interpolate import interp1d"
   ]
  },
  {
   "cell_type": "code",
   "execution_count": 52,
   "metadata": {
    "collapsed": false
   },
   "outputs": [],
   "source": [
    "x1 = np.array([0,1,3,4,5.5])\n",
    "y1 = np.array([1,1,2,4,5])\n",
    "f1 = interp1d(x1, y1, kind=2)\n",
    "x2 = np.array([0,2,3,5.5])\n",
    "y2 = np.array([-3,0,2,3])\n",
    "f2 = interp1d(x2, y2, kind=2)\n",
    "\n",
    "x = np.arange(0, 5.5, 0.01)\n",
    "fx = np.maximum(f1(x), f2(x))\n",
    "Qx = np.minimum(f1(x), f2(x))\n",
    "\n",
    "plt.axis([0,5.5,-1,5.5])\n",
    "\n",
    "tangp = (3,2)\n",
    "\n",
    "idx = np.argmax(Qx)\n",
    "maxQ = (x[idx], Qx[idx])\n",
    "\n",
    "f_star = (x[idx], fx[idx])\n",
    "\n",
    "plt.xlabel(r'$t$', fontsize=20)\n",
    "plt.ylabel(r'$f(t)$' + '\\n' + r'$Q(t|\\theta)$', fontsize=20)\n",
    "\n",
    "plt.plot(x, fx)\n",
    "plt.plot(x, Qx)\n",
    "plt.plot(*tangp, 'ro')\n",
    "plt.plot(*maxQ, 'ro')\n",
    "plt.plot(*f_star, 'ro')\n",
    "\n",
    "plt.text(0.5, 1.4, r'$f$', fontsize=18)\n",
    "plt.text(2.05, -0.2, r'$Q$', fontsize=18)\n",
    "plt.text(tangp[0]-1.4, tangp[1]-0.05, r'$Q(\\theta|\\theta)=f(\\theta)$', fontsize=18)\n",
    "plt.text(maxQ[0]-0.4, maxQ[1]-0.5, r'$Q(\\theta^*|\\theta)$', fontsize=18)\n",
    "plt.text(f_star[0]-0.2, f_star[1]-0.5, r'$f(\\theta^*)$', fontsize=18)\n",
    "plt.text(0.3, 4, r'$f(\\theta) = Q(\\theta|\\theta)\\leq Q(\\theta^*|\\theta)\\leq f(\\theta^*)$', fontsize=18)\n",
    "\n",
    "plt.savefig('minorization.eps', bbox_inches='tight')\n",
    "plt.show()"
   ]
  }
 ],
 "metadata": {
  "kernelspec": {
   "display_name": "Python 3",
   "language": "python",
   "name": "python3"
  },
  "language_info": {
   "codemirror_mode": {
    "name": "ipython",
    "version": 3
   },
   "file_extension": ".py",
   "mimetype": "text/x-python",
   "name": "python",
   "nbconvert_exporter": "python",
   "pygments_lexer": "ipython3",
   "version": "3.5.1"
  }
 },
 "nbformat": 4,
 "nbformat_minor": 0
}
