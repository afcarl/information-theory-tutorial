{
 "cells": [
  {
   "cell_type": "code",
   "execution_count": 1,
   "metadata": {
    "collapsed": true
   },
   "outputs": [],
   "source": [
    "import matplotlib.pyplot as plt\n",
    "import matplotlib.patches as pa\n",
    "import numpy as np"
   ]
  },
  {
   "cell_type": "code",
   "execution_count": 2,
   "metadata": {
    "collapsed": false
   },
   "outputs": [],
   "source": [
    "x = np.arange(-5, 5, 0.01)\n",
    "\n",
    "a,b,c = 0.2,2,1\n",
    "def f(x):\n",
    "    return a + b*x + c*x**2\n",
    "\n",
    "def f_prime(x):\n",
    "    return b + 2*c*x\n",
    "\n",
    "def L(p, mean_x):\n",
    "    return f(mean_x) + f_prime(mean_x)*p\n",
    "\n",
    "plt.axis([-5,5,-10,35])\n",
    "\n",
    "y = f(x)\n",
    "plt.plot(x, y)\n",
    "\n",
    "mean_x = np.mean(x)\n",
    "plt.plot(x, L(x, mean_x), 'r')\n",
    "plt.plot(mean_x, f(mean_x), 'bo')\n",
    "\n",
    "plt.text(mean_x, -2.5, r'$x=\\mathbb{E}[X]$', fontsize=18)\n",
    "plt.text(3.5, L(3.5, mean_x) + 3.5, r'$L(x)$', fontsize=18)\n",
    "plt.text(3.5, f(3) + 15, r'$f(x)$', fontsize=18)\n",
    "\n",
    "plt.savefig('jensen_proof.eps', bbox_inches='tight')\n",
    "plt.show()"
   ]
  },
  {
   "cell_type": "code",
   "execution_count": 105,
   "metadata": {
    "collapsed": false
   },
   "outputs": [],
   "source": [
    "x = np.arange(-7, 7, 0.01)\n",
    "\n",
    "a,b,c = -3,2,1\n",
    "def f(x):\n",
    "    return a + b*x + c*x**2\n",
    "\n",
    "points_x = np.array([-4,-3,2,3,4])\n",
    "\n",
    "plt.axis([-7,7,-15,35])\n",
    "\n",
    "plt.plot(x, f(x))\n",
    "\n",
    "points = np.array([points_x, f(points_x)]).transpose()\n",
    "convex_set = plt.Polygon(points, closed=True, fill=True, fc='c')\n",
    "plt.gca().add_patch(convex_set)\n",
    "\n",
    "convex_x = np.arange(points_x.min(), points_x.max(), 0.01)\n",
    "convex_base = plt.plot(convex_x, f(convex_x), 'r', linewidth=3)\n",
    "\n",
    "plt.plot(points_x, f(points_x), 'go')\n",
    "\n",
    "plt.text(4.1, f(3) + 15, r'$f$', fontsize=18)\n",
    "\n",
    "# draw point labels\n",
    "plt.text(points_x[0]-2.5, f(points_x[0])-0.5, r'$(x_1,f(x_1))$', fontsize=15)\n",
    "plt.text(points_x[1]-2.5, f(points_x[1])-0.5, r'$(x_2,f(x_2))$', fontsize=15)\n",
    "plt.text(points_x[2]+0.3, f(points_x[2])-0.5, r'$(x_3,f(x_3))$', fontsize=15)\n",
    "plt.text(points_x[3]+0.3, f(points_x[3])-0.5, r'$(x_4,f(x_4))$', fontsize=15)\n",
    "plt.text(points_x[4]+0.3, f(points_x[4])-0.5, r'$(x_5,f(x_5))$', fontsize=15)\n",
    "\n",
    "convex_set_label = r'$\\left\\{ \\mathbb{E}_{X\\sim p}[(X,f(X))]'+\\\n",
    "                   r'\\mid p \\mathrm{\\; is\\; a\\; distribution}\\right\\}$'\n",
    "convex_base_label = r'$\\left\\{ (\\mathbb{E}_{X\\sim p}[X], f(\\mathbb{E}_{X\\sim p}[X]))'+\\\n",
    "                    r'\\mid p \\mathrm{\\; is\\; a\\; distribution}\\right\\}$'\n",
    "plt.legend([convex_set, convex_base[0]], [convex_set_label, convex_base_label], fontsize=14.5, loc=2)\n",
    "\n",
    "# Draw example with p=U (uniform distribution).\n",
    "mean_point = points.mean(axis=0)\n",
    "plt.plot(mean_point[0], mean_point[1], 'ro')\n",
    "plt.plot(mean_point[0], f(mean_point[0]), 'ro')\n",
    "plt.text(mean_point[0]-2.5, mean_point[1]+2, r'$\\mathbb{E}_{X\\sim U}[(X,f(X))]$', fontsize=15)\n",
    "pt_label = r'$(\\mathbb{E}_{X\\sim U}[X],f(\\mathbb{E}_{X\\sim U}[X]))$'\n",
    "plt.text(mean_point[0], f(mean_point[0])-3, pt_label, fontsize=15)\n",
    "\n",
    "note_label = 'Remember that ' + r'$\\mathbb{E}[(X,Y)]=(\\mathbb{E}[X],\\mathbb{E}[Y])$'\n",
    "plt.text(0, -11, note_label, fontsize=15, horizontalalignment='center', verticalalignment='center',\n",
    "         bbox=dict(facecolor='none', edgecolor='c', boxstyle='round'))\n",
    "\n",
    "plt.savefig('jensen_idea.eps', bbox_inches='tight')\n",
    "plt.show()"
   ]
  }
 ],
 "metadata": {
  "kernelspec": {
   "display_name": "Python 3",
   "language": "python",
   "name": "python3"
  },
  "language_info": {
   "codemirror_mode": {
    "name": "ipython",
    "version": 3
   },
   "file_extension": ".py",
   "mimetype": "text/x-python",
   "name": "python",
   "nbconvert_exporter": "python",
   "pygments_lexer": "ipython3",
   "version": "3.5.1"
  }
 },
 "nbformat": 4,
 "nbformat_minor": 0
}
