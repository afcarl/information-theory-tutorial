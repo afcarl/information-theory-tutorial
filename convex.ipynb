{
 "cells": [
  {
   "cell_type": "code",
   "execution_count": 48,
   "metadata": {
    "collapsed": false
   },
   "outputs": [],
   "source": [
    "import matplotlib.pyplot as plt\n",
    "from matplotlib.path import Path\n",
    "import matplotlib.patches as patches"
   ]
  },
  {
   "cell_type": "code",
   "execution_count": 206,
   "metadata": {
    "collapsed": false
   },
   "outputs": [],
   "source": [
    "# -------------- convex set --------------\n",
    "\n",
    "plt.subplot(1,2,1)\n",
    "\n",
    "left,right = -0.1,0.95\n",
    "plt.axis([left,right,-0.8,0.8])\n",
    "plt.axis('off')\n",
    "\n",
    "verts = [\n",
    "    (0., 0.),\n",
    "    (0.2, 1.),\n",
    "    (1., 0.8),\n",
    "    (0.8, 0.),\n",
    "    (0.4, -0.5),\n",
    "    (0.3, -0.7),\n",
    "    (0, 0),\n",
    "    ]\n",
    "\n",
    "codes = [Path.MOVETO,\n",
    "         Path.CURVE4,\n",
    "         Path.CURVE4,\n",
    "         Path.CURVE4,\n",
    "         Path.CURVE4,\n",
    "         Path.CURVE4,\n",
    "         Path.CURVE4,\n",
    "         ]\n",
    "\n",
    "path = Path(verts, codes)\n",
    "\n",
    "patch = patches.PathPatch(path, facecolor='none', lw=2, ec='g', fc='lightgreen')\n",
    "plt.gca().add_patch(patch)\n",
    "\n",
    "plt.text((left+right)/2, -0.65, 'Convex Set', fontsize=18, horizontalalignment='center')\n",
    "\n",
    "# -------------- non-convex set --------------\n",
    "\n",
    "plt.subplot(1,2,2)\n",
    "\n",
    "left,right = -0.1,0.82\n",
    "plt.axis([left,right,-0.8,0.8])\n",
    "plt.axis('off')\n",
    "\n",
    "verts = [\n",
    "    (0., 0.),\n",
    "    (0.7, 1.),\n",
    "    (1., 0.8),\n",
    "    (0.4, 0.),\n",
    "    (0.9, -0.5),\n",
    "    (0.8, -0.7),\n",
    "    (0, 0),\n",
    "    ]\n",
    "\n",
    "codes = [Path.MOVETO,\n",
    "         Path.CURVE4,\n",
    "         Path.CURVE4,\n",
    "         Path.CURVE4,\n",
    "         Path.CURVE4,\n",
    "         Path.CURVE4,\n",
    "         Path.CURVE4,\n",
    "         ]\n",
    "\n",
    "path = Path(verts, codes)\n",
    "\n",
    "patch = patches.PathPatch(path, facecolor='none', lw=2, ec='r', fc='pink')\n",
    "plt.gca().add_patch(patch)\n",
    "\n",
    "line = [[0.55,0.55], [0.4,-0.3]]\n",
    "plt.plot(*line, 'bo-', linewidth=2)\n",
    "\n",
    "plt.text((left+right)/2, -0.65, 'Non-Convex Set', fontsize=18, horizontalalignment='center')\n",
    "\n",
    "plt.savefig('convexity.eps', bbox_inches='tight')\n",
    "plt.show()"
   ]
  },
  {
   "cell_type": "code",
   "execution_count": 227,
   "metadata": {
    "collapsed": false
   },
   "outputs": [],
   "source": [
    "x = np.arange(-5, 5, 0.01)\n",
    "\n",
    "a,b,c = 0.2,2,1\n",
    "def f(x):\n",
    "    return a + b*x + c*x**2\n",
    "\n",
    "def f_prime(x):\n",
    "    return b + 2*c*x\n",
    "\n",
    "def L(p, mean_x):\n",
    "    return f(mean_x) + f_prime(mean_x)*p\n",
    "\n",
    "plt.axis([-5,5,-10,35])\n",
    "\n",
    "y = f(x)\n",
    "plt.fill_between(x, y, 35, color='c')\n",
    "plt.plot(x, y)\n",
    "\n",
    "plt.savefig('convex_function.eps', bbox_inches='tight')\n",
    "plt.show()"
   ]
  }
 ],
 "metadata": {
  "kernelspec": {
   "display_name": "Python 3",
   "language": "python",
   "name": "python3"
  },
  "language_info": {
   "codemirror_mode": {
    "name": "ipython",
    "version": 3
   },
   "file_extension": ".py",
   "mimetype": "text/x-python",
   "name": "python",
   "nbconvert_exporter": "python",
   "pygments_lexer": "ipython3",
   "version": "3.5.1"
  }
 },
 "nbformat": 4,
 "nbformat_minor": 0
}
